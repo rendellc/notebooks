{
 "cells": [
  {
   "cell_type": "code",
   "execution_count": 1,
   "metadata": {},
   "outputs": [],
   "source": [
    "from sympy import *\n",
    "from sympy.physics.vector import dynamicsymbols\n",
    "init_printing(use_unicode=True, use_latex='mathjax')"
   ]
  },
  {
   "cell_type": "code",
   "execution_count": 13,
   "metadata": {},
   "outputs": [],
   "source": [
    "t = symbols('t')\n",
    "p1, p2, p3, p4, p5 = symbols('p1 p2 p3 p4 p5')\n",
    "q1,q2 = dynamicsymbols('q1 q2')\n",
    "q = Matrix([q1, q2])\n",
    "qd = diff(q, t)\n",
    "x = Matrix([q, qd])\n",
    "\n",
    "M = Matrix([\n",
    "    [p1+p2+2*p3*cos(q[1]), p2+p3*cos(q[1])],\n",
    "    [p2+p3*cos(q[1])     , p2]])\n",
    "C = Matrix([\n",
    "    [-p3*sin(q[1])*qd[1], -p3*sin(q[1])*(q[0] + q[1])],\n",
    "    [p3*sin(q[1])*qd[0] , 0]\n",
    "])\n",
    "G = Matrix([\n",
    "    [p4*sin(q[0])+p5*cos(q[0]+q[1])],\n",
    "    [p5*cos(q[0]+q[1])]\n",
    "])\n",
    "B = Matrix([\n",
    "    [1],\n",
    "    [0]\n",
    "])\n",
    "\n",
    "f = Matrix([\n",
    "    qd,\n",
    "    -M.inv()*(C*qd + G)\n",
    "])\n",
    "g = Matrix([\n",
    "    zeros(2,1),\n",
    "    M.inv()*B\n",
    "])"
   ]
  },
  {
   "cell_type": "code",
   "execution_count": 62,
   "metadata": {},
   "outputs": [],
   "source": [
    "# Compute matrices\n",
    "A = zeros(4)\n",
    "A[:,0]\n",
    "for i in range(4):\n",
    "    A[:,i] = diff(f,x[i])\n",
    "    \n",
    "\n",
    "A = simplify(A)\n",
    "B = g"
   ]
  },
  {
   "cell_type": "code",
   "execution_count": 82,
   "metadata": {},
   "outputs": [
    {
     "data": {
      "text/latex": [
       "$$\\left[\\begin{matrix}0 & 0 & 1 & 0\\\\0 & 0 & 0 & 1\\\\- \\frac{p_{3} p_{5}}{p_{1} p_{2} - p_{3}^{2}} & - \\frac{p_{3} p_{5}}{p_{1} p_{2} - p_{3}^{2}} & 0 & 0\\\\\\frac{p_{5} \\left(p_{1} + p_{3}\\right)}{p_{1} p_{2} - p_{3}^{2}} & \\frac{p_{5} \\left(p_{1} + p_{3}\\right)}{p_{1} p_{2} - p_{3}^{2}} & 0 & 0\\end{matrix}\\right]$$"
      ],
      "text/plain": [
       "⎡     0             0        1  0⎤\n",
       "⎢                                ⎥\n",
       "⎢     0             0        0  1⎥\n",
       "⎢                                ⎥\n",
       "⎢  -p₃⋅p₅        -p₃⋅p₅          ⎥\n",
       "⎢───────────   ───────────   0  0⎥\n",
       "⎢          2             2       ⎥\n",
       "⎢p₁⋅p₂ - p₃    p₁⋅p₂ - p₃        ⎥\n",
       "⎢                                ⎥\n",
       "⎢p₅⋅(p₁ + p₃)  p₅⋅(p₁ + p₃)      ⎥\n",
       "⎢────────────  ────────────  0  0⎥\n",
       "⎢          2             2       ⎥\n",
       "⎣p₁⋅p₂ - p₃    p₁⋅p₂ - p₃        ⎦"
      ]
     },
     "metadata": {},
     "output_type": "display_data"
    },
    {
     "data": {
      "text/latex": [
       "$$\\left[\\begin{matrix}0\\\\0\\\\\\frac{p_{2}}{p_{1} p_{2} - p_{3}^{2}}\\\\- \\frac{p_{2} + p_{3}}{p_{1} p_{2} - p_{3}^{2}}\\end{matrix}\\right]$$"
      ],
      "text/plain": [
       "⎡     0     ⎤\n",
       "⎢           ⎥\n",
       "⎢     0     ⎥\n",
       "⎢           ⎥\n",
       "⎢     p₂    ⎥\n",
       "⎢───────────⎥\n",
       "⎢          2⎥\n",
       "⎢p₁⋅p₂ - p₃ ⎥\n",
       "⎢           ⎥\n",
       "⎢-(p₂ + p₃) ⎥\n",
       "⎢───────────⎥\n",
       "⎢          2⎥\n",
       "⎣p₁⋅p₂ - p₃ ⎦"
      ]
     },
     "metadata": {},
     "output_type": "display_data"
    }
   ],
   "source": [
    "# Equilibrium\n",
    "xe = [pi/2, 0, 0, 0]\n",
    "Ae = simplify(A.subs({x[0]:xe[0],\n",
    "                      x[1]:xe[1], \n",
    "                      x[2]:xe[2], \n",
    "                      x[3]:xe[3]}))\n",
    "Be = simplify(B.subs({x[0]:xe[0],\n",
    "                      x[1]:xe[1], \n",
    "                      x[2]:xe[2], \n",
    "                      x[3]:xe[3]}))\n",
    "display(Ae)\n",
    "display(Be)"
   ]
  },
  {
   "cell_type": "code",
   "execution_count": 84,
   "metadata": {},
   "outputs": [
    {
     "data": {
      "text/latex": [
       "$$- \\frac{p_{3}^{2} p_{5}^{2}}{p_{1}^{4} p_{2}^{4} - 4 p_{1}^{3} p_{2}^{3} p_{3}^{2} + 6 p_{1}^{2} p_{2}^{2} p_{3}^{4} - 4 p_{1} p_{2} p_{3}^{6} + p_{3}^{8}}$$"
      ],
      "text/plain": [
       "                            2   2                          \n",
       "                         -p₃ ⋅p₅                           \n",
       "───────────────────────────────────────────────────────────\n",
       "  4   4       3   3   2       2   2   4             6     8\n",
       "p₁ ⋅p₂  - 4⋅p₁ ⋅p₂ ⋅p₃  + 6⋅p₁ ⋅p₂ ⋅p₃  - 4⋅p₁⋅p₂⋅p₃  + p₃ "
      ]
     },
     "metadata": {},
     "output_type": "display_data"
    },
    {
     "data": {
      "text/latex": [
       "$$4$$"
      ],
      "text/plain": [
       "4"
      ]
     },
     "metadata": {},
     "output_type": "display_data"
    }
   ],
   "source": [
    "# Controllability\n",
    "Ctrb = zeros(4)\n",
    "Bi = Be\n",
    "for i in range(4):\n",
    "    Ctrb[:,i] = Bi\n",
    "    Bi = Ae*Bi\n",
    "\n",
    "display(Ctrb.det())\n",
    "display(Ctrb.rank())"
   ]
  },
  {
   "cell_type": "code",
   "execution_count": null,
   "metadata": {},
   "outputs": [],
   "source": []
  }
 ],
 "metadata": {
  "kernelspec": {
   "display_name": "Python 3",
   "language": "python",
   "name": "python3"
  },
  "language_info": {
   "codemirror_mode": {
    "name": "ipython",
    "version": 3
   },
   "file_extension": ".py",
   "mimetype": "text/x-python",
   "name": "python",
   "nbconvert_exporter": "python",
   "pygments_lexer": "ipython3",
   "version": "3.7.1"
  }
 },
 "nbformat": 4,
 "nbformat_minor": 2
}
